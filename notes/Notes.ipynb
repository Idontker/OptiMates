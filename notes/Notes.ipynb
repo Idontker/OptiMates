{
 "metadata": {
  "language_info": {
   "codemirror_mode": {
    "name": "ipython",
    "version": 3
   },
   "file_extension": ".py",
   "mimetype": "text/x-python",
   "name": "python",
   "nbconvert_exporter": "python",
   "pygments_lexer": "ipython3",
   "version": "3.9.4-final"
  },
  "orig_nbformat": 2,
  "kernelspec": {
   "name": "python394jvsc74a57bd084898d9a034ed7165702c1055b1f096ea7684f370946698ad09e88c1d889e6d8",
   "display_name": "Python 3.9.4 64-bit"
  },
  "metadata": {
   "interpreter": {
    "hash": "84898d9a034ed7165702c1055b1f096ea7684f370946698ad09e88c1d889e6d8"
   }
  }
 },
 "nbformat": 4,
 "nbformat_minor": 2,
 "cells": [
  {
   "source": [
    "# Meetings\n",
    "\n",
    "## Vorbereitung für Meetings (Karol)\n",
    "1. Logo\n",
    "2. Kommunikationsplatform\n",
    "3. **Arbeitsweise**\n",
    "4. Programmiersprache\n",
    "5. Shared Cloud und Versionsverwaltung\n",
    "6. Solution Validator\n",
    "7. Lemma: Maximale und minimale Distanz zweier Ansteuerpunkte in einer Optimalen Lösung\n",
    "8. Lösungsansätze\n",
    "\n",
    "### 1) Logo\n",
    "Kurz über das Logo abstimmen und besprechen, welche Änderungen wo eingebracht werden sollen. \n",
    "\n",
    "### 2) Kommunikationsplatform\n",
    "WhatsApp ist zwar schnell und einfach, aber sehr unübersichtlich um mehrere Gespräche führen zu können. Gleichzeitig ist es schwerer, einzelne Nachrichten zu bestimmten Themen wiederzufinden. Hierzu bedarf es einer Lösung. \n",
    "\n",
    "Karols Vorschlag: Slack.\n",
    "\n",
    "### 3) **Arbeitsweise**\n",
    "Es ist sinnvoll, sich zu überlegen, wann, in welchem Abstand und wie man sich treffen möchte. Des Weiteren sollte ein Vorgehen anhand zum Beispiel einer Roadmap erkennbar sein.\n",
    "\n",
    "### 4) Programmiersprache\n",
    "Bestandsaufnahme der bekannten Programmiersprachen. Je nach Lösungsansatz haben verschiedene Programmiersprachen Vorteile. Wahrscheinlich ist es trotzdem besser eine suboptimale Sprache zu wählen, ob für mehr Personen Programmieren zu ermöglichen. Beispiel: C++ ist sehr mächtig aber schwer zu lernen.\n",
    "\n",
    "Karols Vorschlag: Python - Sehr einfache Sprache; Viele und gute Libaries + Dokumentationen; Selbst recht fitt drinnen.\n",
    "\n",
    "### 5) Shared Cloud und Versionsverwaltung\n",
    "Daten wie zum Beispiel der Programmcode müssen ausgetauscht werden. Wird dafür eine Cloud benötigt?\n",
    "Programmcode in einer regulären Cloud ist mit einem sehr hohen *Merge* Aufwand verbunden (Code verschiedener Personen zusammenschnipseln). Dies übernehmen in der Regel Versionsverwaltungen wie zum Beispiel GitHub. Lohnt es sich der Aufwand, für alle Git zugänglich zu machen? Wie sollen man *gemeinsam* Programmcode entwerfen.\n",
    "\n",
    "### 6) Solution Validator\n",
    "Es ist möglich, dass der Algorithmus, welchen wir programmieren, Fehler machen kann. Daher ist es notwendig, dessen Lösung mit einem seperaten, einfacheren und viel langsameren Programm zu validieren.\n",
    "Unabhängig vom gewählten Lösungsansatz erhält man die Lösung im gleichen Format: eine Liste von Punkten im Dreidimmensionalen Raum. Daher kann der Entwurf auch zuvor bereits begonnen werden. Dieser Task ist auch nicht zu schwer, da für die Validation einer vorgeschlagenen Lösung viel Zeit genutzt werden kann (wird sehr selten ausgeführt). Daher kann auch die naive Implementierung genutzt werden ($\\mathcal{O}(n * m)$ mit $n$ ist die Validierungsauflösung und $m = |solution|$):\n",
    "\n",
    "```py\n",
    "def validate(solution, r, n):\n",
    "    for i in range(1,n):\n",
    "        p = generate_random_point_on_sphere()\n",
    "        \n",
    "        covered = False\n",
    "\n",
    "        for v in solution:\n",
    "            if dist(v,p) < r:\n",
    "                covered = True\n",
    "                break\n",
    "        if covered == False: \n",
    "            return False\n",
    "    \n",
    "    return True\n",
    "\n",
    "```\n",
    "\n",
    "### 7) Lemma: Maximale und minimale Distanz zweier Ansteuerpunkte in einer Optimalen Lösung\n",
    "Karol: Ich habe die Vermutung, dass man nicht immer die ganze Sphere betrachten möchte. Es könnte reichen ausgehend von einem aufgenommenen Foto im Punkt p, Kandidaten in einer gewissen Distanz $\\theta$ für das nächste Foto zu betrachten (Distanz meint hier nicht die euklidische Norm, sondern $d(x,y) = \\arccos(x,y)$).\n",
    "\n",
    "Diese Vermutung basiert auf der Überdeckung eines Rechtecks mit Kreisen. Betrachtet man die Grafik, dann wird einem schnell klar, dass in jeder überdeckenden Lösung Kreise entweder sich schneiden oder zumindest sich berühren müssen. Andernfalls gäbe es Punkte, welche nicht \n",
    "\n",
    "\n"
   ],
   "cell_type": "markdown",
   "metadata": {}
  },
  {
   "source": [
    "\n",
    "#### Überdeckung eines Rechtecks mit Kreisen\n",
    "<!-- ![](./png/CoverRec.PNG \"Überdeckung eines Rechtecks mit Kreisen\") -->\n",
    "<img src=\"./png/CoverRec.PNG\" width=\"400\">\n",
    "\n",
    "\n",
    "#### Überdeckung möglich, da Überschneidungen vorhanden\n",
    "<img src=\"./png/LessButPossible.PNG\" width=\"400\">\n",
    "\n",
    "#### Überdeckung nicht möglich, da keine Überschneidungen vorhanden\n",
    "<img src=\"./png/LessNoCover.PNG\" width=\"400\">\n",
    "\n",
    "#### Überdeckung nicht möglich, obwohl Überschneidungen vorhanden\n",
    "<img src=\"./png/LessNoCover2.PNG\" width=\"400\">\n"
   ],
   "cell_type": "markdown",
   "metadata": {}
  },
  {
   "source": [
    "Versteht man die Kreise als Konten von Graphen, so würde der Begriff **zusammenhängend** Sinn machen.\n",
    "\n",
    "Es gilt also das folgende Lemma zu beweisen:\n",
    "#### Lemma\n",
    "Für alle $B = B(x,r)$ einer Überdeckung I(X,r) von $X$ mit jenen Kugeln gilt folgendes:\n",
    "$$\\exists B'= B(x',r) \\in I(X,r):  d(x, x') \\le 2r $$  \n",
    "\n",
    "\n",
    "### 8) Lösungsansätze\n",
    "* Minimal Dominating Set (MDS) + Genetic Algorithms: Geniere einen Graphen, dessen Knoten auf der Sphere liegen. Bestimme mit dem **Greedy-Approch** und einer Heuristik die einzelnen Lösungen. Wende dann auf die Parameter der Heuristik einen Genetic Algorithms an (vgl. Evolution).\n",
    "    * Greedy-Approch: Auswählen von Knoten für Dominating Set.\n",
    "    * Greedy-Approch: Auswählen von Knoten, welche nicht zum Dominating Set gehören.\n",
    "    * ggf. mit 7) auf MCDS erweiterbar."
   ],
   "cell_type": "markdown",
   "metadata": {}
  }
 ]
}