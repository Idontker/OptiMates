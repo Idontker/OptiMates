{
 "metadata": {
  "language_info": {
   "codemirror_mode": {
    "name": "ipython",
    "version": 3
   },
   "file_extension": ".py",
   "mimetype": "text/x-python",
   "name": "python",
   "nbconvert_exporter": "python",
   "pygments_lexer": "ipython3",
   "version": 3
  },
  "orig_nbformat": 2
 },
 "nbformat": 4,
 "nbformat_minor": 2,
 "cells": [
  {
   "source": [
    "# Eigene Fragen\n",
    "1. Konkrete Deadlines (circa nach X Wochen)\n",
    "2. Wie werden die Vorträge stattfinden:\n",
    "    * Wer ist anwesend?\n",
    "    * Tage\n",
    "3. Genauigkeit: Wie viel Ungenauigkeit ist akzeptabel?\n",
    "    * Beispiel: In Rahmen einer Diskretisierung (im PC) kann es zu sehr geringen \n",
    "    * Daher ist die Frage, inwieweit wir einen Augenmerk\n",
    "4. Abgabeformat:\n",
    "    * Wie soll die Lösung am Schluss präsentiert bzw. dargestellt werden\n",
    "5. Dokumentation und Programmiersprache: \n",
    "    * Wie, was und wie viel soll im Code dokumentiert werden? Nachvollziehbarkeit anhand des Codes oder einer generierten HTML\n",
    "    * Gibt es Vorgaben für die gewählte Programmiersprache\n",
    "6. Rechenpower:\n",
    "    * Inwieweit ist es möglich CIP Rechner für Berechnungen remote zu nutzten?\n",
    "7. Abgabe:\n",
    "    * Was alles soll abgegeben werden?\n",
    "    * Wie soll der Code abgegeben werden?\n"
   ],
   "cell_type": "markdown",
   "metadata": {}
  }
 ]
}