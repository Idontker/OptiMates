{
 "metadata": {
  "language_info": {
   "codemirror_mode": {
    "name": "ipython",
    "version": 3
   },
   "file_extension": ".py",
   "mimetype": "text/x-python",
   "name": "python",
   "nbconvert_exporter": "python",
   "pygments_lexer": "ipython3",
   "version": 3
  },
  "orig_nbformat": 2
 },
 "nbformat": 4,
 "nbformat_minor": 2,
 "cells": [
  {
   "source": [
    "# Agenda 28.04\n",
    "\n",
    "\n",
    "\n",
    "## Generic Algorithm \n",
    "- GA in seiner einfachsten Form ist implementiert\n",
    "- Prolbeme:\n",
    "    - Simple implementierung ist sehr langsam: $O(|V|^3 \\cdot |G| \\cdot |P|)$\n",
    "    - Konvergiert sehr langsam für große |V|, da es schwer ist, zufällig die richtigen Knoten zu eleminieren\n",
    "    - Ist zu Beginn sehr planlos: eine zufällig Auswahl an Knoten ist sehr wahrscheinlich keine Lösung\n",
    "- Erkenntnisse:\n",
    "    - Man kann den Graphen als eine $NxN$ Matrix $M$ darstellen und die dominierende Menge Menge als Bitvektor $x$.\n",
    "    - Dann erhält man einen Überdeckungsvektor $v$:\n",
    "    $$ \\mu =  \\begin{pmatrix}\\mu_1\\\\ \\vdots \\\\ \\mu_N \\end{pmatrix} = M \\cdot x$$\n",
    "    wobei $\\mu_i$ die Anzahl an Nachbarn in der dominierenden Menge des $i$-ten Knoten darstellt. Das heißt $\\mu_i = 0 \\iff $ ist nicht überdeckt.\n",
    "    - Dadurch kann man sehr schnell aus einem Bitvektor $x$.\n",
    "    - Bislang: Tempogewinn von ca. einer Größenordnung\n",
    "    - ggf. aber durch weitere Libs erweiterbar\n",
    "    - Anhand von dem hier lässt sich auch gut eine Fittness Funktion schreiben, welche sich gut für andere ML Algorithmen eignet.\n",
    "    - Fittness Funktion für $x\\in \\mathbb{N}_0^N$ und $M \\in \\{0,1\\}^{NxN}$, wobei $x$ zu optimieren ist: \n",
    "        $$ \\mu =  \\begin{pmatrix}\\mu_1\\\\ \\vdots \\\\ \\mu_N \\end{pmatrix} = M \\cdot x$$\n",
    "        $$f(\\mu) = \\frac{1}{N} \\cdot ( |\\mu_i \\neq 0| + \\frac{1}{|\\mu_i = 1|}) =\\\\ \\qquad = \\frac{1}{N} \\cdot ( |(Mx)_i \\neq 0| + \\frac{1}{|Mx = 1|})$$\n",
    "\n"
   ],
   "cell_type": "markdown",
   "metadata": {}
  }
 ]
}